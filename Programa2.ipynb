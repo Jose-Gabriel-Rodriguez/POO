{
  "nbformat": 4,
  "nbformat_minor": 0,
  "metadata": {
    "colab": {
      "provenance": [],
      "authorship_tag": "ABX9TyPAT1OgyYVG6amzFJ71hq6r",
      "include_colab_link": true
    },
    "kernelspec": {
      "name": "python3",
      "display_name": "Python 3"
    },
    "language_info": {
      "name": "python"
    }
  },
  "cells": [
    {
      "cell_type": "markdown",
      "metadata": {
        "id": "view-in-github",
        "colab_type": "text"
      },
      "source": [
        "<a href=\"https://colab.research.google.com/github/Jose-Gabriel-Rodriguez/POO/blob/main/Programa2.ipynb\" target=\"_parent\"><img src=\"https://colab.research.google.com/assets/colab-badge.svg\" alt=\"Open In Colab\"/></a>"
      ]
    },
    {
      "cell_type": "markdown",
      "source": [
        "![image](https://github.com/JoseGabriel-ITD/Probabilidad-y-Estadistica/blob/main/Cintilla2004.png?raw=true)\n",
        "\n",
        "# **Programación Orientada a Objetos**\n",
        "\n",
        "\n",
        "## **Unidad I.   Introducción a la Programación Orientada a Objetos**\n",
        "\n",
        "### Docente: José Gabriel Rodríguez Rivas\n",
        "\n",
        "### Alumno: ---------------------------------\n",
        "\n",
        "### Programa 1. Introducción a la POO en Python"
      ],
      "metadata": {
        "id": "yaX7Tc87-TPu"
      }
    },
    {
      "cell_type": "code",
      "source": [
        "# Dedinir una clase libro\n",
        "# Cada objeto creado a partir de esta clase tendrá ciertos atributos y métodos:\n",
        "# En Python, self es una referencia al objeto actual (es decir, a sí mismo).\n",
        "# Se utiliza para acceder a los atributos y métodos de la clase desde dentro de la misma clase.\n",
        "# __init__() es un método especial llamado \"constructor\".\n",
        "# Se ejecuta automáticamente cuando se crea una nueva instancia (objeto) de la clase.\n",
        "# Sirve para inicializar los atributos del objeto con los valores que se le pasen.\n",
        "class Libro:\n",
        "    def __init__(self, titulo, autor, isbn, precio):    # constructor de clase\n",
        "        self.titulo = titulo\n",
        "        self.autor = autor\n",
        "        self.isbn = isbn\n",
        "        self.precio = precio\n",
        "    def mostrar_info(self):    # Metodo\n",
        "        return f\"{self.titulo} por {self.autor} - ISBN: {self.isbn},                Precio: ${self.precio}\"\n"
      ],
      "metadata": {
        "id": "SKFxMctx-Txr"
      },
      "execution_count": 3,
      "outputs": []
    },
    {
      "cell_type": "code",
      "source": [
        "# Crear una instancia concreta de una clase, con datos específicos.\n",
        "\n",
        "libro1 = Libro(\"Cien Años de Soledad\", \"Gabriel García Márquez\",\n",
        "               \"9780307474728\", 350.00)\n",
        "libro2 = Libro(\"1984\", \"George Orwell\", \"9780451524935\", 220.50)"
      ],
      "metadata": {
        "id": "PKVweDNE-iFd"
      },
      "execution_count": 4,
      "outputs": []
    },
    {
      "cell_type": "code",
      "source": [
        "print(libro1.mostrar_info())\n",
        "print(libro2.mostrar_info())"
      ],
      "metadata": {
        "colab": {
          "base_uri": "https://localhost:8080/"
        },
        "id": "EYnLk53Z-jlo",
        "outputId": "01e73e0e-2e14-4f99-e00a-b8dedcba733b"
      },
      "execution_count": 5,
      "outputs": [
        {
          "output_type": "stream",
          "name": "stdout",
          "text": [
            "Cien Años de Soledad por Gabriel García Márquez - ISBN: 9780307474728,                Precio: $350.0\n",
            "1984 por George Orwell - ISBN: 9780451524935,                Precio: $220.5\n"
          ]
        }
      ]
    }
  ]
}